{
 "cells": [
  {
   "cell_type": "markdown",
   "metadata": {},
   "source": [
    "##### virtual environment is a tool used to isolate specific python environments on a single machine\n",
    "### to create a virtual environment \n",
    " 1. create a folder\n",
    " 2. open the folder in terminal\n",
    " 3. run command : \n",
    " ``` terminal\n",
    "  python -m venv myenv \n",
    "  ```\n",
    " run command : \n",
    " ``` terminal\n",
    " Set-ExecutionPolicy -Scope Process -ExecutionPolicy Bypass\n",
    "  ```\n",
    " run command : \n",
    " ``` terminal\n",
    " .\\myenv\\Scripts\\Activate \n",
    " ```\n",
    " ``` terminal\n",
    " (myenv) PS C:\\Users\\Amit rana\\Documents\\Data Science\\python 100 days of code\\41_Day41-Virtual_Environment>\n",
    " ```\n",
    "Here we have made a new environment called myenv even if pandas is installed in the system we can spearately install pandas in this environment with specific version\n",
    "- to create a file :\n",
    "``` terminal\n",
    "touch main.py\n",
    "```\n",
    " \n"
   ]
  },
  {
   "cell_type": "markdown",
   "metadata": {},
   "source": [
    ">> In virtual environment pandas in not installed. \n",
    "``` terminal\n",
    "(myenv) PS C:\\Users\\Amit rana\\Documents\\Data Science\\python 100 days of code\\41_Day41-Virtual_Environment> python\n",
    ">>> import pandas as pd\n",
    "Traceback (most recent call last):\n",
    "  File \"<stdin>\", line 1, in <module>\n",
    "ModuleNotFoundError: No module named 'pandas'\n",
    "```\n",
    ">> pandas is installed in global system this proves that both work as different entities.\n",
    "``` terminal\n",
    "PS C:\\Users\\Amit rana> python\n",
    "Python 3.12.1 (tags/v3.12.1:2305ca5, Dec  7 2023, 22:03:25) [MSC v.1937 64 bit (AMD64)] on win32\n",
    "Type \"help\", \"copyright\", \"credits\" or \"license\" for more information.\n",
    ">>> import pandas as pd\n",
    "<stdin>:1: DeprecationWarning:\n",
    "```"
   ]
  },
  {
   "cell_type": "markdown",
   "metadata": {},
   "source": [
    "To deactivate virtual environment:\n",
    "Run command : (myenv) PS C:\\Users\\Amit rana\\Documents\\Data Science\\python 100 days of code\\41_Day41-Virtual_Environment> deactivate"
   ]
  },
  {
   "cell_type": "markdown",
   "metadata": {},
   "source": [
    "``` terminal \n",
    "PS C:\\Users\\Amit rana\\Documents\\Data Science\\python 100 days of code\\41_Day41-Virtual_Environment> .\\myenv\\Scripts\\Activate\n",
    "(myenv) PS C:\\Users\\Amit rana\\Documents\\Data Science\\python 100 days of code\\41_Day41-Virtual_Environment> python main.py\n",
    "Traceback (most recent call last):\n",
    "  File \"C:\\Users\\Amit rana\\Documents\\Data Science\\python 100 days of code\\41_Day41-Virtual_Environment\\main.py\", line 1, in <module>\n",
    "    import pandas as pd\n",
    "ModuleNotFoundError: No module named 'pandas'\n",
    "```"
   ]
  },
  {
   "cell_type": "markdown",
   "metadata": {},
   "source": [
    "Run these commands:\n",
    "- pip install openpyxl\n",
    "- pip install lxml\n",
    "- pip install dateutils\n",
    "command to see all installed packages\n",
    "- pip freeze\n",
    "``` terminal\n",
    "(myenv) PS C:\\Users\\Amit rana\\Documents\\Data Science\\python 100 days of code\\41_Day41-Virtual_Environment> pip freeze\n",
    "dateutils==0.6.12\n",
    "et-xmlfile==1.1.0\n",
    "lxml==5.1.0\n",
    "openpyxl==3.1.2\n",
    "python-dateutil==2.8.2\n",
    "pytz==2024.1\n",
    "six==1.16.0\n",
    "```\n",
    "- to store this in a file use command\n",
    " ```terminal\n",
    " (myenv) PS C:\\Users\\Amit rana\\Documents\\Data Science\\python 100 days of code\\41_Day41-Virtual_Environment> pip freeze > requirements.txt \n",
    " ```\n"
   ]
  },
  {
   "cell_type": "markdown",
   "metadata": {},
   "source": [
    "to install all the required packages in your system run command:\n",
    "``` terminal \n",
    "(myenv) PS C:\\Users\\Amit rana\\Documents\\Data Science\\python 100 days of code\\41_Day41-Virtual_Environment> pip install -r requirements.txt\n",
    "```"
   ]
  }
 ],
 "metadata": {
  "kernelspec": {
   "display_name": "Python 3",
   "language": "python",
   "name": "python3"
  },
  "language_info": {
   "codemirror_mode": {
    "name": "ipython",
    "version": 3
   },
   "file_extension": ".py",
   "mimetype": "text/x-python",
   "name": "python",
   "nbconvert_exporter": "python",
   "pygments_lexer": "ipython3",
   "version": "3.12.1"
  }
 },
 "nbformat": 4,
 "nbformat_minor": 2
}
